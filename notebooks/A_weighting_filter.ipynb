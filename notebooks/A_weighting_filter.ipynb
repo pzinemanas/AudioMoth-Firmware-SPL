{
 "cells": [
  {
   "cell_type": "markdown",
   "metadata": {},
   "source": [
    "# A-weighting filter implementation"
   ]
  },
  {
   "cell_type": "markdown",
   "metadata": {},
   "source": [
    "The A-weighting transfer function is defined in the ANSI Standards S1.4-1983 and S1.42-2001:\n",
    "\n",
    "$$\n",
    "H(s) = \\frac{\\omega_4^2 s^4}{(s-\\omega_1)^2(s-\\omega_2)(s-\\omega_3)(s-\\omega_4)^2}\n",
    "$$\n",
    "\n",
    "Where $\\omega_i = 2\\pi f_i$ are the angular frequencies defined by:"
   ]
  },
  {
   "cell_type": "code",
   "execution_count": 1,
   "metadata": {},
   "outputs": [],
   "source": [
    "import numpy as np\n",
    "\n",
    "f1 = 20.598997 # Hz\n",
    "f4 = 12194.217 # Hz\n",
    "f2 = 107.65265 # Hz\n",
    "f3 = 737.86223 # Hz\n",
    "\n",
    "w1 = 2*np.pi*f1 # rad/s\n",
    "w2 = 2*np.pi*f2 # rad/s\n",
    "w3 = 2*np.pi*f3 # rad/s\n",
    "w4 = 2*np.pi*f4 # rad/s"
   ]
  },
  {
   "cell_type": "markdown",
   "metadata": {},
   "source": [
    "In [1] ther is a method to convert this function transform to a discrete time-domain using the bilinear transform. We use a similar method, but we separate it into four filters of order one or two, in order to keep the filter stable:\n",
    "\n",
    "$$\n",
    "H(s) = \\omega_4^2 H_1(s) H_2(s) H_3(s) H_4(s),\n",
    "$$\n",
    "where:\n",
    "\n",
    "$$\n",
    "H_i(s) = \\left\\{ \\begin{array}{lcc}\n",
    "             \\frac{s}{(s-\\omega_i)^2} &   \\text{for}  & i=1,4 \\\\\n",
    "             \\\\ \\frac{s}{(s-\\omega_i)} &  \\text{for} & i = 2,3. \\\\\n",
    "             \\end{array}\n",
    "   \\right.\n",
    "$$\n",
    "\n",
    "Now, we conver the $H_i(s)$ filters to their discrete-time implementation by using the bilinear transform:\n",
    "\n",
    "$$\n",
    "s \\rightarrow 2f_s\\frac{1+z^{-1}}{1-z^{-1}}.\n",
    "$$\n",
    "\n",
    "Therefore:\n",
    "\n",
    "$$\n",
    "H_i(z) = \\frac{2f_s(1-z^{-2})}{(\\omega_i-2f_s)^2z^{-2}+2(\\omega_i^2-4f_s^2)z^{-1}+(\\omega_i+2f_s)^2} \\text{ for } i = 1,4\n",
    "$$\n",
    "\n",
    "$$\n",
    "H_i(z) = \\frac{2f_s(1-z^{-1})}{(\\omega_i-2f_s)z^{-1}+(\\omega_i+2f_s)} \\text{ for } i = 2,3\n",
    "$$\n",
    "\n",
    "We define two python functions to calculates coefficients of both types of function transforms:"
   ]
  },
  {
   "cell_type": "code",
   "execution_count": 2,
   "metadata": {},
   "outputs": [],
   "source": [
    "def filter_first_order(w,fs): #s/(s+w)\n",
    "    a0 = w + 2.0*fs    \n",
    "    b = 2*fs*np.array([1, -1])/a0\n",
    "    a = np.array([a0, w - 2*fs])/a0\n",
    "    return b,a\n",
    "\n",
    "def filter_second_order(w,fs): #s/(s+w)^2\n",
    "    a0 = (w + 2.0*fs)**2    \n",
    "    b = 2*fs*np.array([1,0,-1])/a0\n",
    "    a = np.array([a0,2*(w**2-4*fs**2),(w-2*fs)**2])/a0\n",
    "    return b,a"
   ]
  },
  {
   "cell_type": "markdown",
   "metadata": {},
   "source": [
    "Now, we calculate b and a coefficients of the four filters for some sampling rate:"
   ]
  },
  {
   "cell_type": "code",
   "execution_count": 3,
   "metadata": {},
   "outputs": [],
   "source": [
    "fs = 48000 #Hz\n",
    "\n",
    "b1,a1 = filter_second_order(w1,fs)\n",
    "b2,a2 = filter_first_order(w2,fs)\n",
    "b3,a3 = filter_first_order(w3,fs)\n",
    "b4,a4 = filter_second_order(w4,fs)"
   ]
  },
  {
   "cell_type": "markdown",
   "metadata": {},
   "source": [
    "Then, we calculate the impulse response of the overall filter, $h[n]$, by concatenating the four filters and using the impulse signal, $\\delta[n]$, as input. "
   ]
  },
  {
   "cell_type": "code",
   "execution_count": 4,
   "metadata": {},
   "outputs": [],
   "source": [
    "from scipy import signal\n",
    "\n",
    "# generate delta[n]\n",
    "N = 8192*2 #number of points\n",
    "delta = np.zeros(N)\n",
    "delta[0] = 1\n",
    "\n",
    "# apply filters\n",
    "x1 = signal.lfilter(b1,a1,delta)\n",
    "x2 = signal.lfilter(b2,a2,x1)\n",
    "x3 = signal.lfilter(b3,a3,x2)\n",
    "h = signal.lfilter(b4,a4,x3)\n",
    "\n",
    "GA = 10**(2/20.) # 0dB at 1Khz\n",
    "h = h*GA*w4**2 "
   ]
  },
  {
   "cell_type": "markdown",
   "metadata": {},
   "source": [
    "Lets find the filter's frequency response, $H(e^{j\\omega})$, by calcuating the FFT of $h[n]$."
   ]
  },
  {
   "cell_type": "code",
   "execution_count": 5,
   "metadata": {},
   "outputs": [],
   "source": [
    "H = np.abs(np.fft.fft(h))[:N/2]\n",
    "H = 20*np.log10(H)"
   ]
  },
  {
   "cell_type": "markdown",
   "metadata": {},
   "source": [
    "Compare the frequency response to the expresion defined in the norms:"
   ]
  },
  {
   "cell_type": "code",
   "execution_count": 6,
   "metadata": {},
   "outputs": [],
   "source": [
    "eps = 10**-6\n",
    "f = np.linspace(0,fs/2-fs/float(N),N/2)\n",
    "curveA = f4**2*f**4/((f**2+f1**2)*np.sqrt((f**2+f2**2)*(f**2+f3**2))*(f**2+f4**2))\n",
    "HA = 20*np.log10(curveA+eps)+2.0"
   ]
  },
  {
   "cell_type": "code",
   "execution_count": 7,
   "metadata": {},
   "outputs": [
    {
     "data": {
      "text/plain": [
       "<Figure size 1000x1000 with 1 Axes>"
      ]
     },
     "metadata": {},
     "output_type": "display_data"
    }
   ],
   "source": [
    "import matplotlib.pyplot as plt\n",
    "\n",
    "fig = plt.figure(figsize=(10,10))\n",
    "plt.title('Digital filter frequency response')\n",
    "plt.plot(f,H, 'b',label= 'Devised filter')\n",
    "plt.plot(f,HA, 'r',label= 'Norm filter')\n",
    "plt.ylabel('Amplitude [dB]')\n",
    "plt.xlabel('Frequency [Hz]')\n",
    "plt.legend()\n",
    "plt.xscale('log')\n",
    "plt.xlim([10,fs/2.0])\n",
    "plt.ylim([-80,3])\n",
    "plt.grid()\n",
    "plt.show()"
   ]
  },
  {
   "cell_type": "markdown",
   "metadata": {},
   "source": [
    "Now we also can check if the filter designed fullfill the tolerances given in the ANSI norm [2]."
   ]
  },
  {
   "cell_type": "code",
   "execution_count": 8,
   "metadata": {},
   "outputs": [
    {
     "name": "stdout",
     "output_type": "stream",
     "text": [
      "Processed 35 lines.\n"
     ]
    }
   ],
   "source": [
    "import csv\n",
    "\n",
    "freqs = []\n",
    "tol_type0_low = []\n",
    "tol_type0_high = []\n",
    "tol_type1_low = []\n",
    "tol_type1_high = []\n",
    "\n",
    "with open('ANSI_tolerances.csv') as csv_file:\n",
    "    csv_reader = csv.reader(csv_file, delimiter=',')\n",
    "    line_count = 0\n",
    "    for row in csv_reader:\n",
    "        if line_count == 0:\n",
    "            #print('Column names are {\", \".join(row)}')\n",
    "            line_count += 1\n",
    "        else:\n",
    "            freqs.append(float(row[0]))\n",
    "            Aw = float(row[1])\n",
    "            tol_type0_low.append(Aw + float(row[2]))\n",
    "            tol_type0_high.append(Aw + float(row[3]))\n",
    "            tol_type1_low.append(Aw + float(row[4]))\n",
    "            \n",
    "            if row[5] != '':\n",
    "                tol_type1_high.append(Aw + float(row[5]))  \n",
    "            else:\n",
    "                tol_type1_high.append(np.Inf) \n",
    "            line_count += 1\n",
    "    print('Processed %d lines.'%line_count)"
   ]
  },
  {
   "cell_type": "code",
   "execution_count": 9,
   "metadata": {
    "scrolled": false
   },
   "outputs": [
    {
     "data": {
      "image/png": "[encoded data removed]",
      "text/plain": [
       "<Figure size 720x720 with 1 Axes>"
      ]
     },
     "metadata": {
      "needs_background": "light"
     },
     "output_type": "display_data"
    }
   ],
   "source": [
    "fig = plt.figure(figsize=(10,10))\n",
    "plt.title('Digital filter frequency response')\n",
    "plt.plot(f,H, 'b--',label= 'Devised filter')\n",
    "plt.plot(f,HA, 'b-',label= 'Norm filter')\n",
    "#plt.errorbar(freqs, curveA, yerr=tol_type0.T)\n",
    "#plt.errorbar(freqs, curveA, yerr=tol_type1.T)\n",
    "plt.plot(freqs,tol_type0_low,'k.',label='type0 tolerances')\n",
    "plt.plot(freqs,tol_type0_high,'k.')\n",
    "plt.plot(freqs,tol_type1_low,'r.',label='type1 tolerances')\n",
    "plt.plot(freqs,tol_type1_high,'r.')\n",
    "plt.ylabel('Amplitude [dB]')\n",
    "plt.xlabel('Frequency [Hz]')\n",
    "plt.legend()\n",
    "plt.xscale('log')\n",
    "plt.xlim([10,fs/2.0])\n",
    "plt.ylim([-80,3])\n",
    "plt.grid()\n",
    "plt.show()"
   ]
  },
  {
   "cell_type": "markdown",
   "metadata": {},
   "source": [
    "## References\n",
    "[1] Rimell, Andrew; Mansfield, Neil; Paddan, Gurmail (2015). \"Design of digital filters for frequency weightings (A and C) required for risk assessments of workers exposed to noise\". Industrial Health (53): 21–27.\n",
    "\n",
    "[2] ANSI S1.4-1983. Specifications for Sound Level Meters."
   ]
  }
 ],
 "metadata": {
  "kernelspec": {
   "display_name": "Python 2",
   "language": "python",
   "name": "python2"
  },
  "language_info": {
   "codemirror_mode": {
    "name": "ipython",
    "version": 2
   },
   "file_extension": ".py",
   "mimetype": "text/x-python",
   "name": "python",
   "nbconvert_exporter": "python",
   "pygments_lexer": "ipython2",
   "version": "2.7.17"
  }
 },
 "nbformat": 4,
 "nbformat_minor": 2
}
