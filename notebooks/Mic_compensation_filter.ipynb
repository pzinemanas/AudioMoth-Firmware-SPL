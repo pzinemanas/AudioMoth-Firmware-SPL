{
 "cells": [
  {
   "cell_type": "markdown",
   "metadata": {},
   "source": [
    "# Microphone Compensation Filter\n",
    "\n",
    "The microphone of AudioMoth is the [SPM0408LE5H‐TB](https://media.digikey.com/pdf/Data%20Sheets/Knowles%20Acoustics%20PDFs/SPM0408LE5H-TB.pdf) from Knowles Acoustics. Its frequency response is showed in the datasheet [1]:\n",
    "\n",
    "![alt text](mic_frequency_response.png)\n",
    "\n",
    "Note that the frequency response is almost flat between 400 Hz and 4000 KHz. See also that there is not more information about the frequency response for frequencys below to 100 Hz and above to 10 Khz. \n",
    "\n",
    "For now, we implement a IIR filter in order to compensate the microphone response at low frequencies."
   ]
  },
  {
   "cell_type": "markdown",
   "metadata": {},
   "source": [
    "## References\n",
    "\n",
    "[1] [SPM0408LE5H‐TB](https://media.digikey.com/pdf/Data%20Sheets/Knowles%20Acoustics%20PDFs/SPM0408LE5H-TB.pdf) datasheet. Knowles Acoustics. Acces 02/19/2020."
   ]
  }
 ],
 "metadata": {
  "kernelspec": {
   "display_name": "Python 2",
   "language": "python",
   "name": "python2"
  },
  "language_info": {
   "codemirror_mode": {
    "name": "ipython",
    "version": 2
   },
   "file_extension": ".py",
   "mimetype": "text/x-python",
   "name": "python",
   "nbconvert_exporter": "python",
   "pygments_lexer": "ipython2",
   "version": "2.7.17"
  }
 },
 "nbformat": 4,
 "nbformat_minor": 2
}
